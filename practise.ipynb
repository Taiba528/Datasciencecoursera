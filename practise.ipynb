{
  "nbformat": 4,
  "nbformat_minor": 0,
  "metadata": {
    "colab": {
      "name": "practise.ipynb",
      "provenance": [],
      "authorship_tag": "ABX9TyMHKhq+wZoYdQdJjFgTmB0S",
      "include_colab_link": true
    },
    "kernelspec": {
      "name": "python3",
      "display_name": "Python 3"
    }
  },
  "cells": [
    {
      "cell_type": "markdown",
      "metadata": {
        "id": "view-in-github",
        "colab_type": "text"
      },
      "source": [
        "<a href=\"https://colab.research.google.com/github/Taiba528/Datasciencecoursera/blob/master/practise.ipynb\" target=\"_parent\"><img src=\"https://colab.research.google.com/assets/colab-badge.svg\" alt=\"Open In Colab\"/></a>"
      ]
    },
    {
      "cell_type": "code",
      "metadata": {
        "id": "RfPcgJOFIeWP",
        "colab_type": "code",
        "colab": {}
      },
      "source": [
        "import math as m"
      ],
      "execution_count": 0,
      "outputs": []
    },
    {
      "cell_type": "code",
      "metadata": {
        "id": "YnhCqxkvIsaQ",
        "colab_type": "code",
        "outputId": "d41ff541-a53c-4466-b7f3-b0609e5f11d3",
        "colab": {
          "base_uri": "https://localhost:8080/",
          "height": 34
        }
      },
      "source": [
        "print(m.sqrt(25))"
      ],
      "execution_count": 0,
      "outputs": [
        {
          "output_type": "stream",
          "text": [
            "5.0\n"
          ],
          "name": "stdout"
        }
      ]
    },
    {
      "cell_type": "code",
      "metadata": {
        "id": "0Q_1lPdGIzYP",
        "colab_type": "code",
        "colab": {}
      },
      "source": [
        "from math import pow"
      ],
      "execution_count": 0,
      "outputs": []
    },
    {
      "cell_type": "code",
      "metadata": {
        "id": "9lGNwunfJHwO",
        "colab_type": "code",
        "outputId": "364f3edc-8b8e-47f2-ecc8-c1363b973aa3",
        "colab": {
          "base_uri": "https://localhost:8080/",
          "height": 34
        }
      },
      "source": [
        "pow(4,5)"
      ],
      "execution_count": 0,
      "outputs": [
        {
          "output_type": "execute_result",
          "data": {
            "text/plain": [
              "1024.0"
            ]
          },
          "metadata": {
            "tags": []
          },
          "execution_count": 4
        }
      ]
    },
    {
      "cell_type": "code",
      "metadata": {
        "id": "35rvFw18JOw8",
        "colab_type": "code",
        "outputId": "d37abd14-19f6-4018-f097-a547fbf3ab0d",
        "colab": {
          "base_uri": "https://localhost:8080/",
          "height": 34
        }
      },
      "source": [
        "print(m.ceil(2.9))"
      ],
      "execution_count": 0,
      "outputs": [
        {
          "output_type": "stream",
          "text": [
            "3\n"
          ],
          "name": "stdout"
        }
      ]
    },
    {
      "cell_type": "code",
      "metadata": {
        "id": "ZX5g_LQhJXC8",
        "colab_type": "code",
        "outputId": "994fa74d-d264-4669-d076-b27b6027af6c",
        "colab": {
          "base_uri": "https://localhost:8080/",
          "height": 34
        }
      },
      "source": [
        "print(m.floor(2.9))"
      ],
      "execution_count": 0,
      "outputs": [
        {
          "output_type": "stream",
          "text": [
            "2\n"
          ],
          "name": "stdout"
        }
      ]
    },
    {
      "cell_type": "code",
      "metadata": {
        "id": "oiRSiaMFMprX",
        "colab_type": "code",
        "outputId": "21eabdf2-e03a-44e9-e1e2-9e5bfcf4d26f",
        "colab": {
          "base_uri": "https://localhost:8080/",
          "height": 34
        }
      },
      "source": [
        "x=int(input(\"Enter first number\"))"
      ],
      "execution_count": 0,
      "outputs": [
        {
          "output_type": "stream",
          "text": [
            "Enter first number4\n"
          ],
          "name": "stdout"
        }
      ]
    },
    {
      "cell_type": "code",
      "metadata": {
        "id": "6uTgtw56gIRd",
        "colab_type": "code",
        "outputId": "92e63ace-18f4-41c2-e24c-84be14b97a54",
        "colab": {
          "base_uri": "https://localhost:8080/",
          "height": 34
        }
      },
      "source": [
        "y=int(input(\"Enter second number\"))"
      ],
      "execution_count": 0,
      "outputs": [
        {
          "output_type": "stream",
          "text": [
            "Enter second number5\n"
          ],
          "name": "stdout"
        }
      ]
    },
    {
      "cell_type": "code",
      "metadata": {
        "id": "8cAYYct6gSJw",
        "colab_type": "code",
        "outputId": "ec6342d0-a881-4657-a271-700304dab4c5",
        "colab": {
          "base_uri": "https://localhost:8080/",
          "height": 34
        }
      },
      "source": [
        "print(x+y)"
      ],
      "execution_count": 0,
      "outputs": [
        {
          "output_type": "stream",
          "text": [
            "9\n"
          ],
          "name": "stdout"
        }
      ]
    },
    {
      "cell_type": "code",
      "metadata": {
        "id": "Sicm0m_ng3lj",
        "colab_type": "code",
        "outputId": "64e5442b-63b3-4f04-fa28-61d3cd41a0af",
        "colab": {
          "base_uri": "https://localhost:8080/",
          "height": 50
        }
      },
      "source": [
        "print(input('enter a char')[0])"
      ],
      "execution_count": 0,
      "outputs": [
        {
          "output_type": "stream",
          "text": [
            "enter a charr\n",
            "r\n"
          ],
          "name": "stdout"
        }
      ]
    },
    {
      "cell_type": "code",
      "metadata": {
        "id": "HDYGrGjjhe8p",
        "colab_type": "code",
        "outputId": "76fc2ae3-e6f1-4f75-eae3-f652888deb1f",
        "colab": {
          "base_uri": "https://localhost:8080/",
          "height": 50
        }
      },
      "source": [
        "result=eval(input(\"enter an expression\"))\n",
        "print(result)"
      ],
      "execution_count": 0,
      "outputs": [
        {
          "output_type": "stream",
          "text": [
            "enter an expression5+3\n",
            "8\n"
          ],
          "name": "stdout"
        }
      ]
    },
    {
      "cell_type": "code",
      "metadata": {
        "id": "3au7AnOehfBA",
        "colab_type": "code",
        "outputId": "a35f922c-cb09-49b9-c55b-1a60a8c1211f",
        "colab": {
          "base_uri": "https://localhost:8080/",
          "height": 34
        }
      },
      "source": [
        "if True:\n",
        "  print(\"I am right\")"
      ],
      "execution_count": 0,
      "outputs": [
        {
          "output_type": "stream",
          "text": [
            "I am right\n"
          ],
          "name": "stdout"
        }
      ]
    },
    {
      "cell_type": "code",
      "metadata": {
        "id": "tnz2RdkIhfCt",
        "colab_type": "code",
        "outputId": "63467586-9224-4162-beff-12db7f878141",
        "colab": {
          "base_uri": "https://localhost:8080/",
          "height": 34
        }
      },
      "source": [
        "if False:\n",
        "  print(\"I am right\")\n",
        "print(\"bye\")  "
      ],
      "execution_count": 0,
      "outputs": [
        {
          "output_type": "stream",
          "text": [
            "bye\n"
          ],
          "name": "stdout"
        }
      ]
    },
    {
      "cell_type": "code",
      "metadata": {
        "id": "kp0zx4vVkINz",
        "colab_type": "code",
        "outputId": "bfc466bf-8b57-468b-e9ea-444c3cc0ed40",
        "colab": {
          "base_uri": "https://localhost:8080/",
          "height": 50
        }
      },
      "source": [
        "x=6\n",
        "if x % 2==0:\n",
        " print(\"even number\")\n",
        " if x>5:\n",
        "   print(\"x is greater than 5\")\n",
        "else:\n",
        "   print(\"odd number\") \n"
      ],
      "execution_count": 0,
      "outputs": [
        {
          "output_type": "stream",
          "text": [
            "even number\n",
            "x is greater than 5\n"
          ],
          "name": "stdout"
        }
      ]
    },
    {
      "cell_type": "code",
      "metadata": {
        "id": "vBTcwMszyuN1",
        "colab_type": "code",
        "outputId": "88cc2d25-bdd4-4669-de43-91329c0a9775",
        "colab": {
          "base_uri": "https://localhost:8080/",
          "height": 101
        }
      },
      "source": [
        "i=1\n",
        "while i<=5:\n",
        "  print(\"Taiba\")\n",
        "  i=i+1\n"
      ],
      "execution_count": 0,
      "outputs": [
        {
          "output_type": "stream",
          "text": [
            "Taiba\n",
            "Taiba\n",
            "Taiba\n",
            "Taiba\n",
            "Taiba\n"
          ],
          "name": "stdout"
        }
      ]
    },
    {
      "cell_type": "code",
      "metadata": {
        "id": "8CVU21E1kIRt",
        "colab_type": "code",
        "outputId": "090e3e6e-45d6-419d-d194-b944d82ce151",
        "colab": {
          "base_uri": "https://localhost:8080/",
          "height": 101
        }
      },
      "source": [
        "i=5\n",
        "\n",
        "while i>0:\n",
        "  print(\"*\"*i ,end=\"\")\n",
        "  i=i-1\n",
        "  print()"
      ],
      "execution_count": 0,
      "outputs": [
        {
          "output_type": "stream",
          "text": [
            "*****\n",
            "****\n",
            "***\n",
            "**\n",
            "*\n"
          ],
          "name": "stdout"
        }
      ]
    },
    {
      "cell_type": "code",
      "metadata": {
        "id": "DcHvrh8qkITu",
        "colab_type": "code",
        "outputId": "38753a2a-4684-4abb-d53c-d2ce1fa88671",
        "colab": {
          "base_uri": "https://localhost:8080/",
          "height": 151
        }
      },
      "source": [
        "x=[1,2,3,4,5,6,7]\n",
        "\n",
        "for i in x:\n",
        "  print(i)\n",
        "else:\n",
        "  print(\"bye\")  "
      ],
      "execution_count": 0,
      "outputs": [
        {
          "output_type": "stream",
          "text": [
            "1\n",
            "2\n",
            "3\n",
            "4\n",
            "5\n",
            "6\n",
            "7\n",
            "bye\n"
          ],
          "name": "stdout"
        }
      ]
    },
    {
      "cell_type": "code",
      "metadata": {
        "id": "3KbQQYVZkILq",
        "colab_type": "code",
        "outputId": "973714ea-3e1b-4c26-e530-bbbc10f8a38f",
        "colab": {
          "base_uri": "https://localhost:8080/",
          "height": 101
        }
      },
      "source": [
        "for i in range(20,10,-2):\n",
        "    print(i)"
      ],
      "execution_count": 0,
      "outputs": [
        {
          "output_type": "stream",
          "text": [
            "20\n",
            "18\n",
            "16\n",
            "14\n",
            "12\n"
          ],
          "name": "stdout"
        }
      ]
    },
    {
      "cell_type": "code",
      "metadata": {
        "id": "4kEWZ60ChfGj",
        "colab_type": "code",
        "outputId": "99d9e31f-1b1a-43df-ebc3-f9425d5f505e",
        "colab": {
          "base_uri": "https://localhost:8080/",
          "height": 336
        }
      },
      "source": [
        "for i in range(1,100):\n",
        "  if i % 5==0:\n",
        "    print(i)\n",
        "else:\n",
        "  pass    \n",
        "i=i+1"
      ],
      "execution_count": 0,
      "outputs": [
        {
          "output_type": "stream",
          "text": [
            "5\n",
            "10\n",
            "15\n",
            "20\n",
            "25\n",
            "30\n",
            "35\n",
            "40\n",
            "45\n",
            "50\n",
            "55\n",
            "60\n",
            "65\n",
            "70\n",
            "75\n",
            "80\n",
            "85\n",
            "90\n",
            "95\n"
          ],
          "name": "stdout"
        }
      ]
    },
    {
      "cell_type": "code",
      "metadata": {
        "id": "_5uR9-CuhfIR",
        "colab_type": "code",
        "outputId": "199654f7-d901-467b-a528-9aec326a3149",
        "colab": {
          "base_uri": "https://localhost:8080/",
          "height": 134
        }
      },
      "source": [
        "x=int(input(\"How many candies you want?\"))\n",
        "av=5\n",
        "i=1\n",
        "while i<=x:\n",
        "   if i>av:\n",
        "      print(\"out of stock\")\n",
        "      break\n",
        "   print(\"Candy\")\n",
        "   i+=1\n",
        "\n",
        "   \n",
        "print(\"bye\")"
      ],
      "execution_count": 0,
      "outputs": [
        {
          "output_type": "stream",
          "text": [
            "How many candies you want?5\n",
            "Candy\n",
            "Candy\n",
            "Candy\n",
            "Candy\n",
            "Candy\n",
            "bye\n"
          ],
          "name": "stdout"
        }
      ]
    },
    {
      "cell_type": "code",
      "metadata": {
        "id": "Z-BjFS2hhfMk",
        "colab_type": "code",
        "outputId": "12fefcb9-10d9-49ef-eb89-29a0d7446919",
        "colab": {
          "base_uri": "https://localhost:8080/",
          "height": 128
        }
      },
      "source": [
        "for i in range(1,100):\n",
        "    if i % 3 ==0 or i%5==0:\n",
        "        continue\n",
        "    else:   \n",
        "        print(i ,end=\"\")\n",
        "    i+=1\n",
        "``"
      ],
      "execution_count": 0,
      "outputs": [
        {
          "output_type": "error",
          "ename": "SyntaxError",
          "evalue": "ignored",
          "traceback": [
            "\u001b[0;36m  File \u001b[0;32m\"<ipython-input-21-1d443e7d4462>\"\u001b[0;36m, line \u001b[0;32m7\u001b[0m\n\u001b[0;31m    ``\u001b[0m\n\u001b[0m    ^\u001b[0m\n\u001b[0;31mSyntaxError\u001b[0m\u001b[0;31m:\u001b[0m invalid syntax\n"
          ]
        }
      ]
    },
    {
      "cell_type": "code",
      "metadata": {
        "id": "KiQkYLONhfWs",
        "colab_type": "code",
        "colab": {}
      },
      "source": [
        "for i in range(10):\n",
        "  if i%2!=0:3\n",
        "    pass\n",
        "  else:\n",
        "    print(i)  "
      ],
      "execution_count": 0,
      "outputs": []
    },
    {
      "cell_type": "code",
      "metadata": {
        "id": "b_L7e_KEJZLl",
        "colab_type": "code",
        "colab": {}
      },
      "source": [
        "arr=(7,9,8,5,6)\n",
        "x=8\n",
        "if x in arr:\n",
        "     print(\"yes\")\n",
        "\n",
        "else:\n",
        "     print(\"No\")\n"
      ],
      "execution_count": 0,
      "outputs": []
    },
    {
      "cell_type": "code",
      "metadata": {
        "id": "SWByRaUaMXZ4",
        "colab_type": "code",
        "colab": {}
      },
      "source": [
        "for j in range(4):\n",
        "  for i in range(4):\n",
        "     print(\"$\",end=\"\")\n",
        "  print()\n",
        "\n",
        "\n",
        "\n"
      ],
      "execution_count": 0,
      "outputs": []
    },
    {
      "cell_type": "code",
      "metadata": {
        "id": "FELYXoenPsXC",
        "colab_type": "code",
        "colab": {}
      },
      "source": [
        "for j in range(4):\n",
        "  for i in range(4-j):\n",
        "     print(\"$ \",end=\"\")\n",
        "  print()\n",
        "     \n"
      ],
      "execution_count": 0,
      "outputs": []
    },
    {
      "cell_type": "code",
      "metadata": {
        "id": "QUe6Df4zT9yM",
        "colab_type": "code",
        "colab": {}
      },
      "source": [
        "class computer:\n",
        "  def config():\n",
        "    print(\"i5,16gb,1TB\")\n",
        "\n",
        "com1=computer()   \n",
        "type(com1)\n",
        "computer.config()\n",
        "com1.config()\n"
      ],
      "execution_count": 0,
      "outputs": []
    },
    {
      "cell_type": "code",
      "metadata": {
        "id": "YARMoJCZ2DuQ",
        "colab_type": "code",
        "colab": {}
      },
      "source": [
        "print(__name__)"
      ],
      "execution_count": 0,
      "outputs": []
    },
    {
      "cell_type": "code",
      "metadata": {
        "id": "Mezs_jCcGYJP",
        "colab_type": "code",
        "outputId": "974ad48f-5892-4e51-95cd-edf8071a3538",
        "colab": {
          "base_uri": "https://localhost:8080/",
          "height": 313
        }
      },
      "source": [
        "from IPython.dispaly import Image"
      ],
      "execution_count": 0,
      "outputs": [
        {
          "output_type": "stream",
          "text": [
            "ERROR! Session/line number was not unique in database. History logging moved to new session 59\n"
          ],
          "name": "stdout"
        },
        {
          "output_type": "error",
          "ename": "ModuleNotFoundError",
          "evalue": "ignored",
          "traceback": [
            "\u001b[0;31m---------------------------------------------------------------------------\u001b[0m",
            "\u001b[0;31mModuleNotFoundError\u001b[0m                       Traceback (most recent call last)",
            "\u001b[0;32m<ipython-input-21-bf84a493aeb0>\u001b[0m in \u001b[0;36m<module>\u001b[0;34m()\u001b[0m\n\u001b[0;32m----> 1\u001b[0;31m \u001b[0;32mfrom\u001b[0m \u001b[0mIPython\u001b[0m\u001b[0;34m.\u001b[0m\u001b[0mdispaly\u001b[0m \u001b[0;32mimport\u001b[0m \u001b[0mImage\u001b[0m\u001b[0;34m\u001b[0m\u001b[0;34m\u001b[0m\u001b[0m\n\u001b[0m",
            "\u001b[0;31mModuleNotFoundError\u001b[0m: No module named 'IPython.dispaly'",
            "",
            "\u001b[0;31m---------------------------------------------------------------------------\u001b[0;32m\nNOTE: If your import is failing due to a missing package, you can\nmanually install dependencies using either !pip or !apt.\n\nTo view examples of installing some common dependencies, click the\n\"Open Examples\" button below.\n\u001b[0;31m---------------------------------------------------------------------------\u001b[0m\n"
          ]
        }
      ]
    },
    {
      "cell_type": "code",
      "metadata": {
        "id": "ptoabhjhHEWH",
        "colab_type": "code",
        "outputId": "059fee78-35a0-4486-9d68-743c931543f8",
        "colab": {
          "base_uri": "https://localhost:8080/",
          "height": 162
        }
      },
      "source": [
        "ipython --version\n"
      ],
      "execution_count": 0,
      "outputs": [
        {
          "output_type": "error",
          "ename": "NameError",
          "evalue": "ignored",
          "traceback": [
            "\u001b[0;31m---------------------------------------------------------------------------\u001b[0m",
            "\u001b[0;31mNameError\u001b[0m                                 Traceback (most recent call last)",
            "\u001b[0;32m<ipython-input-23-883a6212287d>\u001b[0m in \u001b[0;36m<module>\u001b[0;34m()\u001b[0m\n\u001b[0;32m----> 1\u001b[0;31m \u001b[0mipython\u001b[0m \u001b[0;34m-\u001b[0m\u001b[0;34m-\u001b[0m\u001b[0mversion\u001b[0m\u001b[0;34m\u001b[0m\u001b[0;34m\u001b[0m\u001b[0m\n\u001b[0m",
            "\u001b[0;31mNameError\u001b[0m: name 'ipython' is not defined"
          ]
        }
      ]
    }
  ]
}